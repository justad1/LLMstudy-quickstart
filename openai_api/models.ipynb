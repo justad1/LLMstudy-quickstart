{
 "cells": [
  {
   "cell_type": "markdown",
   "id": "bb04f1a2-1f87-42e6-a5ad-453eec40215f",
   "metadata": {},
   "source": [
    "# Models API\n",
    "\n",
    "使用 Models API 查看和访问 通义千问 提供的预训练大语言模型"
   ]
  },
  {
   "cell_type": "markdown",
   "id": "7466990e-c2ac-441c-a545-fdc122e752ca",
   "metadata": {},
   "source": [
    "## List Models\n",
    "\n",
    "列出当前可用的模型，并提供每个模型的基本信息，如所有者和可用性。"
   ]
  },
  {
   "cell_type": "code",
   "execution_count": 2,
   "id": "f453ab0c-b262-4fa5-993e-b4b341e46a94",
   "metadata": {},
   "outputs": [],
   "source": [
    "from openai import OpenAI\n",
    "from dotenv import load_dotenv\n",
    "import os\n"
   ]
  },
  {
   "cell_type": "code",
   "execution_count": 3,
   "id": "123d1a13",
   "metadata": {},
   "outputs": [],
   "source": [
    "# OpenAI Python SDK v1.0 更新后的使用方式\n",
    "# 这里使用的是通义千问的API\n",
    "# 加载.env文件中的环境变量\n",
    "load_dotenv()\n",
    "\n",
    "# 从环境变量获取API key\n",
    "api_key = os.getenv('DASHSCOPE_API_KEY')\n",
    "# 初始化OpenAI客户端\n",
    "client = OpenAI(\n",
    "    api_key=api_key,\n",
    "    base_url=\"https://dashscope.aliyuncs.com/compatible-mode/v1\"\n",
    ")"
   ]
  },
  {
   "cell_type": "code",
   "execution_count": 4,
   "id": "78df664e",
   "metadata": {},
   "outputs": [
    {
     "name": "stdout",
     "output_type": "stream",
     "text": [
      "SyncPage[Model](data=[Model(id='qwen1.5-7b-chat', created=1735036190, object='model', owned_by='system'), Model(id='qwen-vl-ocr-latest', created=1732693133, object='model', owned_by='system'), Model(id='qwen-vl-ocr', created=1732693123, object='model', owned_by='system'), Model(id='qwen-coder-plus-1106', created=1731253544, object='model', owned_by='system'), Model(id='qwen-coder-plus', created=1731253525, object='model', owned_by='system'), Model(id='qwen-coder-plus-latest', created=1731253510, object='model', owned_by='system'), Model(id='qwen2.5-coder-3b-instruct', created=1731253500, object='model', owned_by='system'), Model(id='qwen2.5-coder-0.5b-instruct', created=1731253490, object='model', owned_by='system'), Model(id='qwen2.5-coder-14b-instruct', created=1731253478, object='model', owned_by='system'), Model(id='qwen2.5-coder-32b-instruct', created=1731253464, object='model', owned_by='system'), Model(id='qwen-turbo-latest', created=1726638000, object='model', owned_by='system'), Model(id='qwen2.5-0.5b-instruct', created=1726638000, object='model', owned_by='system'), Model(id='qwen2.5-1.5b-instruct', created=1726638000, object='model', owned_by='system'), Model(id='qwen2.5-3b-instruct', created=1726638000, object='model', owned_by='system'), Model(id='qwen2.5-7b-instruct', created=1726638000, object='model', owned_by='system'), Model(id='qwen2.5-14b-instruct', created=1726638000, object='model', owned_by='system'), Model(id='qwen2.5-32b-instruct', created=1726638000, object='model', owned_by='system'), Model(id='qwen2.5-72b-instruct', created=1726638000, object='model', owned_by='system'), Model(id='qwen2.5-coder-7b-instruct', created=1726638000, object='model', owned_by='system'), Model(id='qwen2.5-math-1.5b-instruct', created=1726638000, object='model', owned_by='system'), Model(id='qwen2.5-math-7b-instruct', created=1726638000, object='model', owned_by='system'), Model(id='qwen2.5-math-72b-instruct', created=1726638000, object='model', owned_by='system'), Model(id='qwen-turbo-0919', created=1726638000, object='model', owned_by='system'), Model(id='qwen-plus-0919', created=1726638000, object='model', owned_by='system'), Model(id='qwen-plus-latest', created=1726638000, object='model', owned_by='system'), Model(id='qwen-max-0919', created=1726638000, object='model', owned_by='system'), Model(id='qwen-max-latest', created=1726638000, object='model', owned_by='system'), Model(id='qwen-coder-turbo-0919', created=1726638000, object='model', owned_by='system'), Model(id='qwen-coder-turbo', created=1726638000, object='model', owned_by='system'), Model(id='qwen-coder-turbo-latest', created=1726638000, object='model', owned_by='system'), Model(id='qwen-math-turbo-0919', created=1726638000, object='model', owned_by='system'), Model(id='qwen-math-turbo', created=1726638000, object='model', owned_by='system'), Model(id='qwen-math-turbo-latest', created=1726638000, object='model', owned_by='system'), Model(id='qwen-math-plus-0919', created=1726638000, object='model', owned_by='system'), Model(id='qwen-math-plus', created=1726638000, object='model', owned_by='system'), Model(id='qwen-math-plus-latest', created=1726638000, object='model', owned_by='system'), Model(id='qwen2-0.5b-instruct', created=1717760433, object='model', owned_by='system'), Model(id='qwen2-1.5b-instruct', created=1717760433, object='model', owned_by='system'), Model(id='qwen2-57b-a14b-instruct', created=1717760433, object='model', owned_by='system'), Model(id='qwen2-72b-instruct', created=1717760433, object='model', owned_by='system'), Model(id='qwen2-7b-instruct', created=1717760433, object='model', owned_by='system'), Model(id='qwen-long', created=1716203538, object='model', owned_by='system'), Model(id='qwen-vl-max', created=1716197964, object='model', owned_by='system'), Model(id='qwen-vl-plus', created=1716197934, object='model', owned_by='system'), Model(id='qwen-max-0428', created=1714978712, object='model', owned_by='system'), Model(id='qwen1.5-110b-chat', created=1714788848, object='model', owned_by='system'), Model(id='qwen1.5-0.5b-chat', created=1714377102, object='model', owned_by='system'), Model(id='qwen-72b-chat', created=1714377102, object='model', owned_by='system'), Model(id='codeqwen1.5-7b-chat', created=1714377102, object='model', owned_by='system'), Model(id='qwen-14b-chat', created=1714377102, object='model', owned_by='system'), Model(id='qwen-7b-chat', created=1714377102, object='model', owned_by='system'), Model(id='qwen-1.8b-longcontext-chat', created=1714377102, object='model', owned_by='system'), Model(id='qwen-1.8b-chat', created=1714377102, object='model', owned_by='system'), Model(id='qwen1.5-32b-chat', created=1714377101, object='model', owned_by='system'), Model(id='qwen-max-longcontext', created=1714377101, object='model', owned_by='system'), Model(id='qwen-max-1201', created=1714377101, object='model', owned_by='system'), Model(id='qwen1.5-1.8b-chat', created=1714377101, object='model', owned_by='system'), Model(id='qwen1.5-14b-chat', created=1714377101, object='model', owned_by='system'), Model(id='qwen1.5-72b-chat', created=1714377101, object='model', owned_by='system'), Model(id='qwen-max', created=1714377100, object='model', owned_by='system'), Model(id='qwen-plus', created=1714377100, object='model', owned_by='system'), Model(id='qwen-max-0107', created=1714377100, object='model', owned_by='system'), Model(id='qwen-turbo', created=1714377100, object='model', owned_by='system'), Model(id='qwen-max-0403', created=1714377100, object='model', owned_by='system')], object='list')\n"
     ]
    }
   ],
   "source": [
    "# 获取模型列表\n",
    "models = client.models.list()\n",
    "print(models)"
   ]
  },
  {
   "cell_type": "code",
   "execution_count": 5,
   "id": "d78de4ba",
   "metadata": {},
   "outputs": [
    {
     "name": "stdout",
     "output_type": "stream",
     "text": [
      "\n",
      "模型ID: qwen1.5-7b-chat\n",
      "创建时间: 1735036190\n",
      "对象类型: model\n",
      "所有者: system\n",
      "------------------------\n",
      "\n",
      "\n",
      "模型ID: qwen-vl-ocr-latest\n",
      "创建时间: 1732693133\n",
      "对象类型: model\n",
      "所有者: system\n",
      "------------------------\n",
      "\n",
      "\n",
      "模型ID: qwen-vl-ocr\n",
      "创建时间: 1732693123\n",
      "对象类型: model\n",
      "所有者: system\n",
      "------------------------\n",
      "\n",
      "\n",
      "模型ID: qwen-coder-plus-1106\n",
      "创建时间: 1731253544\n",
      "对象类型: model\n",
      "所有者: system\n",
      "------------------------\n",
      "\n",
      "\n",
      "模型ID: qwen-coder-plus\n",
      "创建时间: 1731253525\n",
      "对象类型: model\n",
      "所有者: system\n",
      "------------------------\n",
      "\n",
      "\n",
      "模型ID: qwen-coder-plus-latest\n",
      "创建时间: 1731253510\n",
      "对象类型: model\n",
      "所有者: system\n",
      "------------------------\n",
      "\n",
      "\n",
      "模型ID: qwen2.5-coder-3b-instruct\n",
      "创建时间: 1731253500\n",
      "对象类型: model\n",
      "所有者: system\n",
      "------------------------\n",
      "\n",
      "\n",
      "模型ID: qwen2.5-coder-0.5b-instruct\n",
      "创建时间: 1731253490\n",
      "对象类型: model\n",
      "所有者: system\n",
      "------------------------\n",
      "\n",
      "\n",
      "模型ID: qwen2.5-coder-14b-instruct\n",
      "创建时间: 1731253478\n",
      "对象类型: model\n",
      "所有者: system\n",
      "------------------------\n",
      "\n",
      "\n",
      "模型ID: qwen2.5-coder-32b-instruct\n",
      "创建时间: 1731253464\n",
      "对象类型: model\n",
      "所有者: system\n",
      "------------------------\n",
      "\n",
      "\n",
      "模型ID: qwen-turbo-latest\n",
      "创建时间: 1726638000\n",
      "对象类型: model\n",
      "所有者: system\n",
      "------------------------\n",
      "\n",
      "\n",
      "模型ID: qwen2.5-0.5b-instruct\n",
      "创建时间: 1726638000\n",
      "对象类型: model\n",
      "所有者: system\n",
      "------------------------\n",
      "\n",
      "\n",
      "模型ID: qwen2.5-1.5b-instruct\n",
      "创建时间: 1726638000\n",
      "对象类型: model\n",
      "所有者: system\n",
      "------------------------\n",
      "\n",
      "\n",
      "模型ID: qwen2.5-3b-instruct\n",
      "创建时间: 1726638000\n",
      "对象类型: model\n",
      "所有者: system\n",
      "------------------------\n",
      "\n",
      "\n",
      "模型ID: qwen2.5-7b-instruct\n",
      "创建时间: 1726638000\n",
      "对象类型: model\n",
      "所有者: system\n",
      "------------------------\n",
      "\n",
      "\n",
      "模型ID: qwen2.5-14b-instruct\n",
      "创建时间: 1726638000\n",
      "对象类型: model\n",
      "所有者: system\n",
      "------------------------\n",
      "\n",
      "\n",
      "模型ID: qwen2.5-32b-instruct\n",
      "创建时间: 1726638000\n",
      "对象类型: model\n",
      "所有者: system\n",
      "------------------------\n",
      "\n",
      "\n",
      "模型ID: qwen2.5-72b-instruct\n",
      "创建时间: 1726638000\n",
      "对象类型: model\n",
      "所有者: system\n",
      "------------------------\n",
      "\n",
      "\n",
      "模型ID: qwen2.5-coder-7b-instruct\n",
      "创建时间: 1726638000\n",
      "对象类型: model\n",
      "所有者: system\n",
      "------------------------\n",
      "\n",
      "\n",
      "模型ID: qwen2.5-math-1.5b-instruct\n",
      "创建时间: 1726638000\n",
      "对象类型: model\n",
      "所有者: system\n",
      "------------------------\n",
      "\n",
      "\n",
      "模型ID: qwen2.5-math-7b-instruct\n",
      "创建时间: 1726638000\n",
      "对象类型: model\n",
      "所有者: system\n",
      "------------------------\n",
      "\n",
      "\n",
      "模型ID: qwen2.5-math-72b-instruct\n",
      "创建时间: 1726638000\n",
      "对象类型: model\n",
      "所有者: system\n",
      "------------------------\n",
      "\n",
      "\n",
      "模型ID: qwen-turbo-0919\n",
      "创建时间: 1726638000\n",
      "对象类型: model\n",
      "所有者: system\n",
      "------------------------\n",
      "\n",
      "\n",
      "模型ID: qwen-plus-0919\n",
      "创建时间: 1726638000\n",
      "对象类型: model\n",
      "所有者: system\n",
      "------------------------\n",
      "\n",
      "\n",
      "模型ID: qwen-plus-latest\n",
      "创建时间: 1726638000\n",
      "对象类型: model\n",
      "所有者: system\n",
      "------------------------\n",
      "\n",
      "\n",
      "模型ID: qwen-max-0919\n",
      "创建时间: 1726638000\n",
      "对象类型: model\n",
      "所有者: system\n",
      "------------------------\n",
      "\n",
      "\n",
      "模型ID: qwen-max-latest\n",
      "创建时间: 1726638000\n",
      "对象类型: model\n",
      "所有者: system\n",
      "------------------------\n",
      "\n",
      "\n",
      "模型ID: qwen-coder-turbo-0919\n",
      "创建时间: 1726638000\n",
      "对象类型: model\n",
      "所有者: system\n",
      "------------------------\n",
      "\n",
      "\n",
      "模型ID: qwen-coder-turbo\n",
      "创建时间: 1726638000\n",
      "对象类型: model\n",
      "所有者: system\n",
      "------------------------\n",
      "\n",
      "\n",
      "模型ID: qwen-coder-turbo-latest\n",
      "创建时间: 1726638000\n",
      "对象类型: model\n",
      "所有者: system\n",
      "------------------------\n",
      "\n",
      "\n",
      "模型ID: qwen-math-turbo-0919\n",
      "创建时间: 1726638000\n",
      "对象类型: model\n",
      "所有者: system\n",
      "------------------------\n",
      "\n",
      "\n",
      "模型ID: qwen-math-turbo\n",
      "创建时间: 1726638000\n",
      "对象类型: model\n",
      "所有者: system\n",
      "------------------------\n",
      "\n",
      "\n",
      "模型ID: qwen-math-turbo-latest\n",
      "创建时间: 1726638000\n",
      "对象类型: model\n",
      "所有者: system\n",
      "------------------------\n",
      "\n",
      "\n",
      "模型ID: qwen-math-plus-0919\n",
      "创建时间: 1726638000\n",
      "对象类型: model\n",
      "所有者: system\n",
      "------------------------\n",
      "\n",
      "\n",
      "模型ID: qwen-math-plus\n",
      "创建时间: 1726638000\n",
      "对象类型: model\n",
      "所有者: system\n",
      "------------------------\n",
      "\n",
      "\n",
      "模型ID: qwen-math-plus-latest\n",
      "创建时间: 1726638000\n",
      "对象类型: model\n",
      "所有者: system\n",
      "------------------------\n",
      "\n",
      "\n",
      "模型ID: qwen2-0.5b-instruct\n",
      "创建时间: 1717760433\n",
      "对象类型: model\n",
      "所有者: system\n",
      "------------------------\n",
      "\n",
      "\n",
      "模型ID: qwen2-1.5b-instruct\n",
      "创建时间: 1717760433\n",
      "对象类型: model\n",
      "所有者: system\n",
      "------------------------\n",
      "\n",
      "\n",
      "模型ID: qwen2-57b-a14b-instruct\n",
      "创建时间: 1717760433\n",
      "对象类型: model\n",
      "所有者: system\n",
      "------------------------\n",
      "\n",
      "\n",
      "模型ID: qwen2-72b-instruct\n",
      "创建时间: 1717760433\n",
      "对象类型: model\n",
      "所有者: system\n",
      "------------------------\n",
      "\n",
      "\n",
      "模型ID: qwen2-7b-instruct\n",
      "创建时间: 1717760433\n",
      "对象类型: model\n",
      "所有者: system\n",
      "------------------------\n",
      "\n",
      "\n",
      "模型ID: qwen-long\n",
      "创建时间: 1716203538\n",
      "对象类型: model\n",
      "所有者: system\n",
      "------------------------\n",
      "\n",
      "\n",
      "模型ID: qwen-vl-max\n",
      "创建时间: 1716197964\n",
      "对象类型: model\n",
      "所有者: system\n",
      "------------------------\n",
      "\n",
      "\n",
      "模型ID: qwen-vl-plus\n",
      "创建时间: 1716197934\n",
      "对象类型: model\n",
      "所有者: system\n",
      "------------------------\n",
      "\n",
      "\n",
      "模型ID: qwen-max-0428\n",
      "创建时间: 1714978712\n",
      "对象类型: model\n",
      "所有者: system\n",
      "------------------------\n",
      "\n",
      "\n",
      "模型ID: qwen1.5-110b-chat\n",
      "创建时间: 1714788848\n",
      "对象类型: model\n",
      "所有者: system\n",
      "------------------------\n",
      "\n",
      "\n",
      "模型ID: qwen1.5-0.5b-chat\n",
      "创建时间: 1714377102\n",
      "对象类型: model\n",
      "所有者: system\n",
      "------------------------\n",
      "\n",
      "\n",
      "模型ID: qwen-72b-chat\n",
      "创建时间: 1714377102\n",
      "对象类型: model\n",
      "所有者: system\n",
      "------------------------\n",
      "\n",
      "\n",
      "模型ID: codeqwen1.5-7b-chat\n",
      "创建时间: 1714377102\n",
      "对象类型: model\n",
      "所有者: system\n",
      "------------------------\n",
      "\n",
      "\n",
      "模型ID: qwen-14b-chat\n",
      "创建时间: 1714377102\n",
      "对象类型: model\n",
      "所有者: system\n",
      "------------------------\n",
      "\n",
      "\n",
      "模型ID: qwen-7b-chat\n",
      "创建时间: 1714377102\n",
      "对象类型: model\n",
      "所有者: system\n",
      "------------------------\n",
      "\n",
      "\n",
      "模型ID: qwen-1.8b-longcontext-chat\n",
      "创建时间: 1714377102\n",
      "对象类型: model\n",
      "所有者: system\n",
      "------------------------\n",
      "\n",
      "\n",
      "模型ID: qwen-1.8b-chat\n",
      "创建时间: 1714377102\n",
      "对象类型: model\n",
      "所有者: system\n",
      "------------------------\n",
      "\n",
      "\n",
      "模型ID: qwen1.5-32b-chat\n",
      "创建时间: 1714377101\n",
      "对象类型: model\n",
      "所有者: system\n",
      "------------------------\n",
      "\n",
      "\n",
      "模型ID: qwen-max-longcontext\n",
      "创建时间: 1714377101\n",
      "对象类型: model\n",
      "所有者: system\n",
      "------------------------\n",
      "\n",
      "\n",
      "模型ID: qwen-max-1201\n",
      "创建时间: 1714377101\n",
      "对象类型: model\n",
      "所有者: system\n",
      "------------------------\n",
      "\n",
      "\n",
      "模型ID: qwen1.5-1.8b-chat\n",
      "创建时间: 1714377101\n",
      "对象类型: model\n",
      "所有者: system\n",
      "------------------------\n",
      "\n",
      "\n",
      "模型ID: qwen1.5-14b-chat\n",
      "创建时间: 1714377101\n",
      "对象类型: model\n",
      "所有者: system\n",
      "------------------------\n",
      "\n",
      "\n",
      "模型ID: qwen1.5-72b-chat\n",
      "创建时间: 1714377101\n",
      "对象类型: model\n",
      "所有者: system\n",
      "------------------------\n",
      "\n",
      "\n",
      "模型ID: qwen-max\n",
      "创建时间: 1714377100\n",
      "对象类型: model\n",
      "所有者: system\n",
      "------------------------\n",
      "\n",
      "\n",
      "模型ID: qwen-plus\n",
      "创建时间: 1714377100\n",
      "对象类型: model\n",
      "所有者: system\n",
      "------------------------\n",
      "\n",
      "\n",
      "模型ID: qwen-max-0107\n",
      "创建时间: 1714377100\n",
      "对象类型: model\n",
      "所有者: system\n",
      "------------------------\n",
      "\n",
      "\n",
      "模型ID: qwen-turbo\n",
      "创建时间: 1714377100\n",
      "对象类型: model\n",
      "所有者: system\n",
      "------------------------\n",
      "\n",
      "\n",
      "模型ID: qwen-max-0403\n",
      "创建时间: 1714377100\n",
      "对象类型: model\n",
      "所有者: system\n",
      "------------------------\n",
      "\n"
     ]
    }
   ],
   "source": [
    "# 获取模型列表\n",
    "models = client.models.list()\n",
    "\n",
    "# 打印模型信息\n",
    "for model in models.data:\n",
    "    print(f\"\"\"\n",
    "模型ID: {model.id}\n",
    "创建时间: {model.created}\n",
    "对象类型: {model.object}\n",
    "所有者: {model.owned_by}\n",
    "------------------------\n",
    "\"\"\")"
   ]
  },
  {
   "cell_type": "markdown",
   "id": "6b69d74e-a79d-4832-9bda-2a5b9df7e68d",
   "metadata": {},
   "source": [
    "通义千问模型概览\n",
    "文本生成模型\n",
    "| 模型名称 | 描述 |\n",
    "|---------|------|\n",
    "| qwen-turbo | 通义千问的基础对话模型 |\n",
    "| qwen-plus | 增强版对话模型 |\n",
    "| qwen-max | 最强大的对话模型 |\n",
    "Embedding 模型\n",
    "| 模型名称 | 描述 |\n",
    "|---------|------|\n",
    "| text-embedding-v1 | 文本向量模型 |\n",
    "| text-embedding-v2 | 升级版文本向量模型 |\n",
    "| text-embedding-v3 | 最新版文本向量模型 |\n",
    "主要参数说明\n",
    "| 参数 | 说明 |\n",
    "|------|------|\n",
    "| created | 模型发布时间戳 |\n",
    "| id | 模型唯一标识符 |\n",
    "| object | 对象类型，通常为 \"model\" |\n",
    "| owned_by | 所有者，通常为 \"aliyun\" |"
   ]
  },
  {
   "cell_type": "code",
   "execution_count": 6,
   "id": "82922dd9-f38e-4ec1-8be0-361aefb99d7b",
   "metadata": {},
   "outputs": [
    {
     "data": {
      "text/plain": [
       "[Model(id='qwen1.5-7b-chat', created=1735036190, object='model', owned_by='system'),\n",
       " Model(id='qwen-vl-ocr-latest', created=1732693133, object='model', owned_by='system'),\n",
       " Model(id='qwen-vl-ocr', created=1732693123, object='model', owned_by='system'),\n",
       " Model(id='qwen-coder-plus-1106', created=1731253544, object='model', owned_by='system'),\n",
       " Model(id='qwen-coder-plus', created=1731253525, object='model', owned_by='system'),\n",
       " Model(id='qwen-coder-plus-latest', created=1731253510, object='model', owned_by='system'),\n",
       " Model(id='qwen2.5-coder-3b-instruct', created=1731253500, object='model', owned_by='system'),\n",
       " Model(id='qwen2.5-coder-0.5b-instruct', created=1731253490, object='model', owned_by='system'),\n",
       " Model(id='qwen2.5-coder-14b-instruct', created=1731253478, object='model', owned_by='system'),\n",
       " Model(id='qwen2.5-coder-32b-instruct', created=1731253464, object='model', owned_by='system'),\n",
       " Model(id='qwen-turbo-latest', created=1726638000, object='model', owned_by='system'),\n",
       " Model(id='qwen2.5-0.5b-instruct', created=1726638000, object='model', owned_by='system'),\n",
       " Model(id='qwen2.5-1.5b-instruct', created=1726638000, object='model', owned_by='system'),\n",
       " Model(id='qwen2.5-3b-instruct', created=1726638000, object='model', owned_by='system'),\n",
       " Model(id='qwen2.5-7b-instruct', created=1726638000, object='model', owned_by='system'),\n",
       " Model(id='qwen2.5-14b-instruct', created=1726638000, object='model', owned_by='system'),\n",
       " Model(id='qwen2.5-32b-instruct', created=1726638000, object='model', owned_by='system'),\n",
       " Model(id='qwen2.5-72b-instruct', created=1726638000, object='model', owned_by='system'),\n",
       " Model(id='qwen2.5-coder-7b-instruct', created=1726638000, object='model', owned_by='system'),\n",
       " Model(id='qwen2.5-math-1.5b-instruct', created=1726638000, object='model', owned_by='system'),\n",
       " Model(id='qwen2.5-math-7b-instruct', created=1726638000, object='model', owned_by='system'),\n",
       " Model(id='qwen2.5-math-72b-instruct', created=1726638000, object='model', owned_by='system'),\n",
       " Model(id='qwen-turbo-0919', created=1726638000, object='model', owned_by='system'),\n",
       " Model(id='qwen-plus-0919', created=1726638000, object='model', owned_by='system'),\n",
       " Model(id='qwen-plus-latest', created=1726638000, object='model', owned_by='system'),\n",
       " Model(id='qwen-max-0919', created=1726638000, object='model', owned_by='system'),\n",
       " Model(id='qwen-max-latest', created=1726638000, object='model', owned_by='system'),\n",
       " Model(id='qwen-coder-turbo-0919', created=1726638000, object='model', owned_by='system'),\n",
       " Model(id='qwen-coder-turbo', created=1726638000, object='model', owned_by='system'),\n",
       " Model(id='qwen-coder-turbo-latest', created=1726638000, object='model', owned_by='system'),\n",
       " Model(id='qwen-math-turbo-0919', created=1726638000, object='model', owned_by='system'),\n",
       " Model(id='qwen-math-turbo', created=1726638000, object='model', owned_by='system'),\n",
       " Model(id='qwen-math-turbo-latest', created=1726638000, object='model', owned_by='system'),\n",
       " Model(id='qwen-math-plus-0919', created=1726638000, object='model', owned_by='system'),\n",
       " Model(id='qwen-math-plus', created=1726638000, object='model', owned_by='system'),\n",
       " Model(id='qwen-math-plus-latest', created=1726638000, object='model', owned_by='system'),\n",
       " Model(id='qwen2-0.5b-instruct', created=1717760433, object='model', owned_by='system'),\n",
       " Model(id='qwen2-1.5b-instruct', created=1717760433, object='model', owned_by='system'),\n",
       " Model(id='qwen2-57b-a14b-instruct', created=1717760433, object='model', owned_by='system'),\n",
       " Model(id='qwen2-72b-instruct', created=1717760433, object='model', owned_by='system'),\n",
       " Model(id='qwen2-7b-instruct', created=1717760433, object='model', owned_by='system'),\n",
       " Model(id='qwen-long', created=1716203538, object='model', owned_by='system'),\n",
       " Model(id='qwen-vl-max', created=1716197964, object='model', owned_by='system'),\n",
       " Model(id='qwen-vl-plus', created=1716197934, object='model', owned_by='system'),\n",
       " Model(id='qwen-max-0428', created=1714978712, object='model', owned_by='system'),\n",
       " Model(id='qwen1.5-110b-chat', created=1714788848, object='model', owned_by='system'),\n",
       " Model(id='qwen1.5-0.5b-chat', created=1714377102, object='model', owned_by='system'),\n",
       " Model(id='qwen-72b-chat', created=1714377102, object='model', owned_by='system'),\n",
       " Model(id='codeqwen1.5-7b-chat', created=1714377102, object='model', owned_by='system'),\n",
       " Model(id='qwen-14b-chat', created=1714377102, object='model', owned_by='system'),\n",
       " Model(id='qwen-7b-chat', created=1714377102, object='model', owned_by='system'),\n",
       " Model(id='qwen-1.8b-longcontext-chat', created=1714377102, object='model', owned_by='system'),\n",
       " Model(id='qwen-1.8b-chat', created=1714377102, object='model', owned_by='system'),\n",
       " Model(id='qwen1.5-32b-chat', created=1714377101, object='model', owned_by='system'),\n",
       " Model(id='qwen-max-longcontext', created=1714377101, object='model', owned_by='system'),\n",
       " Model(id='qwen-max-1201', created=1714377101, object='model', owned_by='system'),\n",
       " Model(id='qwen1.5-1.8b-chat', created=1714377101, object='model', owned_by='system'),\n",
       " Model(id='qwen1.5-14b-chat', created=1714377101, object='model', owned_by='system'),\n",
       " Model(id='qwen1.5-72b-chat', created=1714377101, object='model', owned_by='system'),\n",
       " Model(id='qwen-max', created=1714377100, object='model', owned_by='system'),\n",
       " Model(id='qwen-plus', created=1714377100, object='model', owned_by='system'),\n",
       " Model(id='qwen-max-0107', created=1714377100, object='model', owned_by='system'),\n",
       " Model(id='qwen-turbo', created=1714377100, object='model', owned_by='system'),\n",
       " Model(id='qwen-max-0403', created=1714377100, object='model', owned_by='system')]"
      ]
     },
     "execution_count": 6,
     "metadata": {},
     "output_type": "execute_result"
    }
   ],
   "source": [
    "models.data"
   ]
  },
  {
   "cell_type": "markdown",
   "id": "774e3a12-01f6-44ad-8829-03510f5d9df6",
   "metadata": {},
   "source": [
    "### 获取模型 ID 列表"
   ]
  },
  {
   "cell_type": "code",
   "execution_count": 7,
   "id": "dd351597-b055-4d30-aa0b-b5e468f7b924",
   "metadata": {},
   "outputs": [
    {
     "data": {
      "text/plain": [
       "'qwen1.5-7b-chat'"
      ]
     },
     "execution_count": 7,
     "metadata": {},
     "output_type": "execute_result"
    }
   ],
   "source": [
    "models.data[0].id"
   ]
  },
  {
   "cell_type": "code",
   "execution_count": 8,
   "id": "1dd7c0fd",
   "metadata": {},
   "outputs": [
    {
     "data": {
      "text/plain": [
       "'qwen2.5-32b-instruct'"
      ]
     },
     "execution_count": 8,
     "metadata": {},
     "output_type": "execute_result"
    }
   ],
   "source": [
    "models.data[16].id"
   ]
  },
  {
   "cell_type": "code",
   "execution_count": 9,
   "id": "f04106e4",
   "metadata": {},
   "outputs": [
    {
     "data": {
      "text/plain": [
       "'qwen2.5-coder-7b-instruct'"
      ]
     },
     "execution_count": 9,
     "metadata": {},
     "output_type": "execute_result"
    }
   ],
   "source": [
    "models.data[18].id"
   ]
  },
  {
   "cell_type": "code",
   "execution_count": 10,
   "id": "fdb8752e-bcb8-4732-a037-1835861c20a7",
   "metadata": {},
   "outputs": [],
   "source": [
    "model_list = [model.id for model in models.data]"
   ]
  },
  {
   "cell_type": "code",
   "execution_count": 11,
   "id": "3372f33d-4302-4fc6-9eac-e1d34cf216be",
   "metadata": {},
   "outputs": [
    {
     "name": "stdout",
     "output_type": "stream",
     "text": [
      "['qwen1.5-7b-chat', 'qwen-vl-ocr-latest', 'qwen-vl-ocr', 'qwen-coder-plus-1106', 'qwen-coder-plus', 'qwen-coder-plus-latest', 'qwen2.5-coder-3b-instruct', 'qwen2.5-coder-0.5b-instruct', 'qwen2.5-coder-14b-instruct', 'qwen2.5-coder-32b-instruct', 'qwen-turbo-latest', 'qwen2.5-0.5b-instruct', 'qwen2.5-1.5b-instruct', 'qwen2.5-3b-instruct', 'qwen2.5-7b-instruct', 'qwen2.5-14b-instruct', 'qwen2.5-32b-instruct', 'qwen2.5-72b-instruct', 'qwen2.5-coder-7b-instruct', 'qwen2.5-math-1.5b-instruct', 'qwen2.5-math-7b-instruct', 'qwen2.5-math-72b-instruct', 'qwen-turbo-0919', 'qwen-plus-0919', 'qwen-plus-latest', 'qwen-max-0919', 'qwen-max-latest', 'qwen-coder-turbo-0919', 'qwen-coder-turbo', 'qwen-coder-turbo-latest', 'qwen-math-turbo-0919', 'qwen-math-turbo', 'qwen-math-turbo-latest', 'qwen-math-plus-0919', 'qwen-math-plus', 'qwen-math-plus-latest', 'qwen2-0.5b-instruct', 'qwen2-1.5b-instruct', 'qwen2-57b-a14b-instruct', 'qwen2-72b-instruct', 'qwen2-7b-instruct', 'qwen-long', 'qwen-vl-max', 'qwen-vl-plus', 'qwen-max-0428', 'qwen1.5-110b-chat', 'qwen1.5-0.5b-chat', 'qwen-72b-chat', 'codeqwen1.5-7b-chat', 'qwen-14b-chat', 'qwen-7b-chat', 'qwen-1.8b-longcontext-chat', 'qwen-1.8b-chat', 'qwen1.5-32b-chat', 'qwen-max-longcontext', 'qwen-max-1201', 'qwen1.5-1.8b-chat', 'qwen1.5-14b-chat', 'qwen1.5-72b-chat', 'qwen-max', 'qwen-plus', 'qwen-max-0107', 'qwen-turbo', 'qwen-max-0403']\n"
     ]
    }
   ],
   "source": [
    "print(model_list)"
   ]
  },
  {
   "cell_type": "markdown",
   "id": "75d2a270-949c-4ad2-a568-e254e6231333",
   "metadata": {},
   "source": [
    "## Retrieve Model\n",
    "\n",
    "根据前面查询到当前支持的模型ID列表，获取指定模型实例，如`qwen2.5-math-7b-instruct`。"
   ]
  },
  {
   "cell_type": "code",
   "execution_count": 12,
   "id": "6fd7eca9-ed5a-4bca-8f9c-a0bf36177d31",
   "metadata": {},
   "outputs": [],
   "source": [
    "\n",
    "client = OpenAI(\n",
    "    api_key=api_key,\n",
    "    base_url=\"https://dashscope.aliyuncs.com/compatible-mode/v1\"\n",
    ")\n",
    "\n",
    "# 将模型 ID 传入 retrieve 接口\n",
    "qwen2_5_math_7b_instruct = client.models.retrieve(\"qwen2.5-math-7b-instruct\")"
   ]
  },
  {
   "cell_type": "code",
   "execution_count": 13,
   "id": "cd496ed3",
   "metadata": {},
   "outputs": [
    {
     "name": "stdout",
     "output_type": "stream",
     "text": [
      "Model(id='qwen2.5-math-7b-instruct', created=1726638000, object='model', owned_by='system', extra_info={'default_envs': {'num_beams': 1, 'seed': 1234, 'max_tokens': 4096, 'presence_penalty': 0.0, 'no_repeat_ngram_size': 0, 'early_stopping': 1, 'do_sample': 1, 'n': 1, 'top_p': 1.0, 'best_of': 1, 'top_k': 1, 'stop_words_list': [[151643], [151644], [151645], [47671, 144575], [144575, 14098, 144575]], 'temperature': 0.0, 'max_input_tokens': 3072, 'repetition_penalty': 1.0, 'length_penalty': 0.0, 'max_output_tokens': 3072}})\n"
     ]
    }
   ],
   "source": [
    "print(qwen2_5_math_7b_instruct)"
   ]
  },
  {
   "cell_type": "markdown",
   "id": "67bd0916-d771-4745-85bb-28be33806d89",
   "metadata": {},
   "source": [
    "### 获取指定模型，如 qwen2.5-coder-7b-instruct 、qwen2.5-32b-instruct"
   ]
  },
  {
   "cell_type": "code",
   "execution_count": 14,
   "id": "2ea16de8-add9-4ad4-b5b9-ebb959d7ab7f",
   "metadata": {},
   "outputs": [
    {
     "data": {
      "text/plain": [
       "Model(id='qwen2.5-coder-7b-instruct', created=1726638000, object='model', owned_by='system', extra_info={'default_envs': {'num_beams': 1, 'seed': 1234, 'max_tokens': 131072, 'presence_penalty': 0.0, 'no_repeat_ngram_size': 0, 'early_stopping': 1, 'do_sample': 1, 'n': 1, 'top_p': 0.8, 'best_of': 1, 'top_k': 20, 'stop_words_list': [[151643], [151644], [151645], [47671, 144575], [144575, 14098, 144575]], 'temperature': 0.7, 'max_input_tokens': 129024, 'repetition_penalty': 1.1, 'length_penalty': 0.0, 'max_output_tokens': 8192}})"
      ]
     },
     "execution_count": 14,
     "metadata": {},
     "output_type": "execute_result"
    }
   ],
   "source": [
    "client.models.retrieve(\"qwen2.5-coder-7b-instruct\")"
   ]
  },
  {
   "cell_type": "code",
   "execution_count": 15,
   "id": "fa107114-28cd-435a-a4b0-c9ceabddf415",
   "metadata": {},
   "outputs": [
    {
     "data": {
      "text/plain": [
       "Model(id='qwen2.5-32b-instruct', created=1726638000, object='model', owned_by='system', extra_info={'default_envs': {'num_beams': 1, 'seed': 1234, 'max_tokens': 131072, 'presence_penalty': 0.0, 'no_repeat_ngram_size': 0, 'early_stopping': 1, 'do_sample': 1, 'n': 1, 'top_p': 0.8, 'best_of': 1, 'top_k': 20, 'stop_words_list': [[151643], [151644], [151645], [47671, 144575], [144575, 14098, 144575]], 'temperature': 0.7, 'max_input_tokens': 129024, 'repetition_penalty': 1.05, 'length_penalty': 0.0, 'max_output_tokens': 8192}})"
      ]
     },
     "execution_count": 15,
     "metadata": {},
     "output_type": "execute_result"
    }
   ],
   "source": [
    "client.models.retrieve(\"qwen2.5-32b-instruct\")"
   ]
  },
  {
   "cell_type": "markdown",
   "id": "028f4f7e-3be1-44d7-bfcd-c65a13e85093",
   "metadata": {},
   "source": [
    "# 文本内容补全初探（Completions API）[Legacy]\n",
    "\n",
    "使用 Completions API 实现各类文本生成任务\n",
    "\n",
    "\n",
    "主要请求参数说明：\n",
    "\n",
    "\n",
    "## 必选参数\n",
    "| 参数 | 类型 | 说明 |\n",
    "|------|------|------|\n",
    "| model | string | 模型名称。支持通义千问大语言模型、通义千问VL、数学模型、代码模型等 |\n",
    "| messages | array | 由历史对话组成的消息列表 |\n",
    "\n",
    "## 消息类型\n",
    "- System Message\n",
    "可选参数\n",
    "模型的目标或角色设定\n",
    "如果设置，需放在 messages 列表的第一位\n",
    "- User Message\n",
    "必选参数\n",
    "用户发送给模型的消息\n",
    "- Assistant Message\n",
    "可选参数\n",
    "模型对用户消息的回复\n",
    "- Tool Message\n",
    "## 可选参数\n",
    "\n",
    "| 参数 | 类型 | 默认值 | 说明 |\n",
    "|------|------|--------|------|\n",
    "| stream | boolean | false | 是否流式输出回复 |\n",
    "| stream_options | object | - | 流式输出的配置选项 |\n",
    "| temperature | float | - | 采样温度，控制文本多样性，范围[0, 2) |\n",
    "| top_p | float | - | 核采样概率阈值，范围(0,1.0] |\n",
    "| presence_penalty | float | - | 控制内容重复度，范围[-2.0, 2.0] |\n",
    "| response_format | object | {\"type\": \"text\"} | 返回内容格式 |\n",
    "| max_tokens | integer | - | 返回的最大 Token 数 |\n",
    "| n | integer | 1 | 生成响应的个数，范围1-4 |\n",
    "| seed | integer | - | 随机数种子，用于结果复现 |\n",
    "| stop | string/array | - | 生成停止标记 |\n",
    "| tools | array | - | 可供模型调用的工具数组 |\n",
    "| tool_choice | string/object | \"auto\" | 工具选择策略 |\n",
    "| parallel_tool_calls | boolean | false | 是否开启并行工具调用 |\n",
    "| translation_options | object | - | 翻译模型参数 |\n",
    "| enable_search | boolean | false | 是否启用互联网搜索 |\n",
    "## 特殊说明\n",
    "1. temperature 和 top_p 建议只设置其中一个\n",
    "2. presence_penalty:\n",
    "- 正数减少重复度\n",
    "- 负数增加重复度\n",
    "- 适用于创意写作或需要一致性的场景\n",
    "3. response_format 支持:\n",
    "- {\"type\": \"text\"}\n",
    "- {\"type\": \"json_object\"}\n",
    "4. tool_choice 可选值:\n",
    "- \"auto\": 由模型选择\n",
    "- \"required\": 强制使用工具\n",
    "- \"none\": 强制不使用工具\n",
    "- {\"type\": \"function\", \"function\": {\"name\": \"xxx\"}}: 强制使用指定工具\n",
    "\n",
    "\n"
   ]
  },
  {
   "cell_type": "markdown",
   "id": "648d357b",
   "metadata": {},
   "source": [
    "## 生成英文文本"
   ]
  },
  {
   "cell_type": "code",
   "execution_count": 34,
   "id": "0526acb1-5741-48b6-ae64-917ad0d064b4",
   "metadata": {},
   "outputs": [
    {
     "name": "stdout",
     "output_type": "stream",
     "text": [
      "Certainly! Below is a sample English text for you:\n",
      "\n",
      "---\n",
      "\n",
      "**Title: The Enchanted Forest\n"
     ]
    }
   ],
   "source": [
    "\n",
    "client = OpenAI(\n",
    "    api_key=api_key,\n",
    "    base_url=\"https://dashscope.aliyuncs.com/compatible-mode/v1\"\n",
    ")\n",
    "\n",
    "data = client.chat.completions.create(\n",
    "    model=\"qwen-coder-plus\",  # 使用通义千问的代码模型\n",
    "    messages=[\n",
    "        {\"role\": \"user\", \"content\": \"生成一个英文文本\"}\n",
    "    ],\n",
    "    max_tokens=20,\n",
    "    temperature=0\n",
    ")\n",
    "\n",
    "# 打印结果\n",
    "print(data.choices[0].message.content)"
   ]
  },
  {
   "cell_type": "code",
   "execution_count": 35,
   "id": "af7a8d1f-c2f7-421d-bd0d-0890d06a0c34",
   "metadata": {},
   "outputs": [
    {
     "name": "stdout",
     "output_type": "stream",
     "text": [
      "ChatCompletion(id='chatcmpl-17e2fa12-2a9a-9d3b-b6ea-ce8b08e92e13', choices=[Choice(finish_reason='length', index=0, logprobs=None, message=ChatCompletionMessage(content='Certainly! Below is a sample English text for you:\\n\\n---\\n\\n**Title: The Enchanted Forest', refusal=None, role='assistant', audio=None, function_call=None, tool_calls=None))], created=1738823710, model='qwen-coder-plus', object='chat.completion', service_tier=None, system_fingerprint=None, usage=CompletionUsage(completion_tokens=20, prompt_tokens=22, total_tokens=42, completion_tokens_details=None, prompt_tokens_details=None))\n"
     ]
    }
   ],
   "source": [
    "print(data)"
   ]
  },
  {
   "cell_type": "code",
   "execution_count": 36,
   "id": "63cddd0f-a8f3-4f62-891a-8146306a5d95",
   "metadata": {},
   "outputs": [],
   "source": [
    "text = data.choices[0].message.content"
   ]
  },
  {
   "cell_type": "code",
   "execution_count": 37,
   "id": "49cbd498-bfa5-4d11-a6ee-30822b24dcc8",
   "metadata": {},
   "outputs": [
    {
     "name": "stdout",
     "output_type": "stream",
     "text": [
      "Certainly! Below is a sample English text for you:\n",
      "\n",
      "---\n",
      "\n",
      "**Title: The Enchanted Forest\n"
     ]
    }
   ],
   "source": [
    "print(text)"
   ]
  },
  {
   "cell_type": "code",
   "execution_count": 38,
   "id": "c43d83bd-375f-4256-925a-e894d0e155a0",
   "metadata": {},
   "outputs": [
    {
     "name": "stdout",
     "output_type": "stream",
     "text": [
      "生成的文本: Certainly! Below is a sample English text for you:\n",
      "\n",
      "---\n",
      "\n",
      "**Title: The Enchanted Forest\n",
      "\n",
      "响应详情:\n",
      "ID: chatcmpl-17e2fa12-2a9a-9d3b-b6ea-ce8b08e92e13\n",
      "模型: qwen-coder-plus\n",
      "Token 使用情况:\n",
      "- 输入 tokens: 22\n",
      "- 输出 tokens: 20\n",
      "- 总计 tokens: 42\n",
      "完成原因: length\n"
     ]
    }
   ],
   "source": [
    "print(f\"生成的文本: {text}\")\n",
    "\n",
    "# 如果需要获取更多信息\n",
    "print(\"\\n响应详情:\")\n",
    "print(f\"ID: {data.id}\")\n",
    "print(f\"模型: {data.model}\")\n",
    "print(f\"Token 使用情况:\")\n",
    "print(f\"- 输入 tokens: {data.usage.prompt_tokens}\")\n",
    "print(f\"- 输出 tokens: {data.usage.completion_tokens}\")\n",
    "print(f\"- 总计 tokens: {data.usage.total_tokens}\")\n",
    "print(f\"完成原因: {data.choices[0].finish_reason}\")"
   ]
  },
  {
   "cell_type": "code",
   "execution_count": null,
   "id": "159f1bf9-1604-414c-af74-45b22c33a7f9",
   "metadata": {},
   "outputs": [],
   "source": []
  },
  {
   "cell_type": "markdown",
   "id": "5c79be11-b2b4-4580-ad10-b7111cb950ea",
   "metadata": {},
   "source": [
    "## 生成中文文本\n",
    "\n",
    "调整 `max_tokens` "
   ]
  },
  {
   "cell_type": "code",
   "execution_count": 44,
   "id": "3e3a4018-7c72-49a1-942b-167c3941fb96",
   "metadata": {},
   "outputs": [],
   "source": [
    "data = client.chat.completions.create(\n",
    "  model=\"qwen-coder-plus\",\n",
    "  messages=[\n",
    "        {\"role\": \"user\", \"content\": \"讲5个给程序员听得懂笑话\"}\n",
    "    ],\n",
    "  max_tokens=1000,\n",
    "  temperature=0.5\n",
    ")"
   ]
  },
  {
   "cell_type": "code",
   "execution_count": 45,
   "id": "f04959ba-5781-4e9e-bdfb-a55f0698acd9",
   "metadata": {},
   "outputs": [
    {
     "name": "stdout",
     "output_type": "stream",
     "text": [
      "当然可以，以下是五个程序员可能会觉得有趣的笑话：\n",
      "\n",
      "1. **为什么程序员总是把咖啡洒在键盘上？**\n",
      "   因为他们需要“提神”一下。\n",
      "\n",
      "2. **两个程序员在电梯里，一个问另一个：“你用的是什么操作系统？”另一个回答说：“Windows。”第一个人说：“哦，那我猜你是做前端的。”**\n",
      "   这个笑话暗示了前端开发人员可能更倾向于使用Windows系统，尽管这并不是绝对的，但它利用了程序员之间的刻板印象来制造幽默。\n",
      "\n",
      "3. **为什么程序员不喜欢在海滩度假？**\n",
      "   因为他们害怕被晒成“Java”。\n",
      "\n",
      "4. **为什么程序员总是迟到？**\n",
      "   因为他们喜欢调试自己的生物钟。\n",
      "\n",
      "5. **有一个程序员走进酒吧，对吧台说：“给我一个字符串，一个布尔值，还有一个浮点数。”**\n",
      "   这个笑话利用了编程语言中的基本数据类型（字符串、布尔值和浮点数）来制造幽默效果。\n",
      "\n",
      "希望这些笑话能让程序员朋友们会心一笑！\n"
     ]
    }
   ],
   "source": [
    "text = data.choices[0].message.content\n",
    "print(text)"
   ]
  },
  {
   "cell_type": "code",
   "execution_count": null,
   "id": "ad54c353-64bf-44dc-ad55-1d2c4a783443",
   "metadata": {},
   "outputs": [],
   "source": []
  },
  {
   "cell_type": "markdown",
   "id": "3e5bdaff-764f-4fbf-b2c2-a8afbdaca8c6",
   "metadata": {},
   "source": [
    "## 生成 Python 代码，并执行和验证\n",
    "\n",
    "以面试中考察的典型的试题 `快速排序` 为例"
   ]
  },
  {
   "cell_type": "code",
   "execution_count": 46,
   "id": "3d5a6a51-57cd-4890-8978-b07efa2c28e2",
   "metadata": {},
   "outputs": [],
   "source": [
    "data = client.chat.completions.create(\n",
    "  model=\"qwen-coder-plus\",\n",
    "  messages=[\n",
    "        {\"role\": \"user\", \"content\": \"生成可执行的快速排序 Python 代码\"}\n",
    "    ],\n",
    "  max_tokens=1000,\n",
    "  temperature=0\n",
    ")\n"
   ]
  },
  {
   "cell_type": "code",
   "execution_count": 47,
   "id": "45e24e7d-72d7-491a-a60f-0e8031a6fc7d",
   "metadata": {},
   "outputs": [
    {
     "name": "stdout",
     "output_type": "stream",
     "text": [
      "当然！以下是一个可执行的快速排序（Quick Sort）算法的 Python 实现：\n",
      "\n",
      "```python\n",
      "def quick_sort(arr):\n",
      "    \"\"\"快速排序算法\"\"\"\n",
      "    if len(arr) <= 1:\n",
      "        return arr\n",
      "    else:\n",
      "        pivot = arr[len(arr) // 2]  # 选择中间元素作为基准\n",
      "        left = [x for x in arr if x < pivot]  # 小于基准的元素\n",
      "        middle = [x for x in arr if x == pivot]  # 等于基准的元素\n",
      "        right = [x for x in arr if x > pivot]  # 大于基准的元素\n",
      "        return quick_sort(left) + middle + quick_sort(right)\n",
      "\n",
      "# 测试快速排序函数\n",
      "if __name__ == \"__main__\":\n",
      "    unsorted_array = [3, 6, 8, 10, 1, 2, 1]\n",
      "    print(\"未排序数组:\", unsorted_array)\n",
      "    sorted_array = quick_sort(unsorted_array)\n",
      "    print(\"已排序数组:\", sorted_array)\n",
      "```\n",
      "\n",
      "### 代码说明：\n",
      "1. **基准选择**：在这个实现中，我们选择了数组的中间元素作为基准（pivot）。\n",
      "2. **分区**：我们将数组分为三个部分：\n",
      "   - `left`：所有小于基准的元素。\n",
      "   - `middle`：所有等于基准的元素。\n",
      "   - `right`：所有大于基准的元素。\n",
      "3. **递归排序**：对 `left` 和 `right` 部分递归地进行快速排序。\n",
      "4. **合并结果**：将排序后的 `left`、`middle` 和 `right` 合并成一个完整的排序数组。\n",
      "\n",
      "### 运行代码：\n",
      "你可以将上述代码保存到一个 `.py` 文件中，然后使用 Python 解释器运行它。例如，如果你将文件保存为 `quick_sort.py`，可以在命令行中运行以下命令：\n",
      "\n",
      "```sh\n",
      "python quick_sort.py\n",
      "```\n",
      "\n",
      "这将输出未排序和已排序的数组。\n"
     ]
    }
   ],
   "source": [
    "text = data.choices[0].message.content\n",
    "print(text)"
   ]
  },
  {
   "cell_type": "markdown",
   "id": "49c6675c-611e-4933-9fca-804200eef339",
   "metadata": {},
   "source": [
    "#### Prompt：Jupyter Notebook 中执行生成的代码\n",
    "\n",
    "Prompt：\n",
    "\n",
    "```\n",
    "我现在用 Completion API 生成了 Python 代码，并以字符串形式存放在 text 中，如下所示：\n",
    "\n",
    "text = data.choices[0].text\n",
    "print(text)\n",
    "\n",
    "def quick_sort(arr):\n",
    "    \"\"\"快速排序算法\"\"\"\n",
    "    if len(arr) <= 1:\n",
    "        return arr\n",
    "    else:\n",
    "        pivot = arr[len(arr) // 2]  # 选择中间元素作为基准\n",
    "        left = [x for x in arr if x < pivot]  # 小于基准的元素\n",
    "        middle = [x for x in arr if x == pivot]  # 等于基准的元素\n",
    "        right = [x for x in arr if x > pivot]  # 大于基准的元素\n",
    "        return quick_sort(left) + middle + quick_sort(right)\n",
    "\n",
    "# 测试快速排序函数\n",
    "if __name__ == \"__main__\":\n",
    "    unsorted_array = [3, 6, 8, 10, 1, 2, 1]\n",
    "    print(\"未排序数组:\", unsorted_array)\n",
    "    sorted_array = quick_sort(unsorted_array)\n",
    "    print(\"已排序数组:\", sorted_array)\n",
    "\n",
    "如何在 Jupyter notebook 中执行text中存放的这段代码\n",
    "```\n"
   ]
  },
  {
   "cell_type": "code",
   "execution_count": 51,
   "id": "21707523-bde6-48b9-ac9d-da693045f7c5",
   "metadata": {},
   "outputs": [],
   "source": [
    "# `exec` 函数会执行传入的字符串作为 Python 代码。\n",
    "# 在这个例子中，我们使用 `exec` 来定义了一个 `quick_sort` 函数，然后你就可以调用这个函数了。\n",
    "# 请注意，`exec` 可以执行任何 Python 代码，因此在使用它的时候一定要小心，特别是当你执行的代码来自不可信的来源时。\n",
    "# 提取代码部分\n",
    "code_text = \"\"\"\n",
    "def quick_sort(arr):\n",
    "    \\\"\\\"\\\"快速排序算法\\\"\\\"\\\"\n",
    "    if len(arr) <= 1:\n",
    "        return arr\n",
    "    else:\n",
    "        pivot = arr[len(arr) // 2]  # 选择中间元素作为基准\n",
    "        left = [x for x in arr if x < pivot]  # 小于基准的元素\n",
    "        middle = [x for x in arr if x == pivot]  # 等于基准的元素\n",
    "        right = [x for x in arr if x > pivot]  # 大于基准的元素\n",
    "        return quick_sort(left) + middle + quick_sort(right)\n",
    "\"\"\"\n"
   ]
  },
  {
   "cell_type": "code",
   "execution_count": 52,
   "id": "50be044a",
   "metadata": {},
   "outputs": [
    {
     "name": "stdout",
     "output_type": "stream",
     "text": [
      "测试数组: [3, 6, 8, 10, 1, 2, 1]\n",
      "排序结果: [1, 1, 2, 3, 6, 8, 10]\n"
     ]
    }
   ],
   "source": [
    "# 安全执行代码\n",
    "try:\n",
    "    # 执行代码定义函数\n",
    "    exec(code_text)\n",
    "    \n",
    "    # 测试函数\n",
    "    test_array = [3, 6, 8, 10, 1, 2, 1]\n",
    "    print(\"测试数组:\", test_array)\n",
    "    sorted_array = quick_sort(test_array)\n",
    "    print(\"排序结果:\", sorted_array)\n",
    "    \n",
    "except Exception as e:\n",
    "    print(f\"执行代码时出错: {str(e)}\")"
   ]
  },
  {
   "cell_type": "code",
   "execution_count": null,
   "id": "15918392-560b-4826-8800-4c7a11167579",
   "metadata": {},
   "outputs": [],
   "source": []
  },
  {
   "cell_type": "markdown",
   "id": "cd669a78-125f-478f-b3d9-677f137d9398",
   "metadata": {},
   "source": [
    "# 聊天机器人初探（Chat Completions API）\n",
    "\n",
    "使用 Chat Completions API 实现对话任务\n",
    "\n",
    "聊天补全(Chat Completions API)以消息列表作为输入，并返回模型生成的消息作为输出。尽管聊天格式旨在使多轮对话变得简单，但它同样适用于没有任何对话的单轮任务。\n",
    "\n",
    "主要请求参数说明：\n",
    "\n",
    "\n",
    "- **`model` （string，必填）**\n",
    "\n",
    "  要使用的模型ID。有关哪些模型适用于Chat API的详细信息\n",
    "\n",
    "- **`messages` （array，必填）**\n",
    "\n",
    "  迄今为止描述对话的消息列表\n",
    "    - **`role` （string，必填）**\n",
    "\n",
    "  发送此消息的角色。`system` 、`user` 或 `assistant` 之一（一般用 user 发送用户问题，system 发送给模型提示信息）\n",
    "\n",
    "    - **`content` （string，必填）**\n",
    "    \n",
    "      消息的内容\n",
    "    \n",
    "    - **`name` （string，选填）**\n",
    "    \n",
    "      此消息的发送者姓名。可以包含 a-z、A-Z、0-9 和下划线，最大长度为 64 个字符\n",
    "\n",
    "- **`stream` （boolean，选填，是否按流的方式发送内容）**\n",
    "\n",
    "  当它设置为 true 时，API 会以 SSE（ Server Side Event ）方式返回内容。SSE 本质上是一个长链接，会持续不断地输出内容直到完成响应。如果不是做实时聊天，默认false即可。\n",
    "\n",
    "- **`max_tokens` （integer，选填）**\n",
    "\n",
    "  在聊天补全中生成的最大 **tokens** 数。\n",
    "\n",
    "  输入token和生成的token的总长度受模型上下文长度的限制。\n",
    "\n",
    "- **`temperature` （number，选填，默认是 1）**\n",
    "\n",
    "  采样温度，在 0和 2 之间。\n",
    "\n",
    "  较高的值，如0.8会使输出更随机，而较低的值，如0.2会使其更加集中和确定性。\n",
    "\n",
    "  通常建议修改这个（`temperature` ）或者 `top_p` ，但两者不能同时存在，二选一。\n"
   ]
  },
  {
   "cell_type": "markdown",
   "id": "d00108e4-b98e-4d55-a1e2-78845b321fec",
   "metadata": {},
   "source": [
    "## 开启聊天模式\n",
    "\n",
    "使用 `messages` 记录迄今为止对话的消息列表"
   ]
  },
  {
   "cell_type": "code",
   "execution_count": 53,
   "id": "172f2eb6-2d2b-4d10-9887-5e4af011c77f",
   "metadata": {},
   "outputs": [],
   "source": [
    "messages=[\n",
    "    {\n",
    "        \"role\": \"user\", \n",
    "        \"content\": \"Hello!\"\n",
    "    }\n",
    "]\n",
    "\n",
    "\n",
    "data = client.chat.completions.create(\n",
    "  model=\"qwen-coder-plus\",\n",
    "  messages = messages\n",
    ")\n"
   ]
  },
  {
   "cell_type": "code",
   "execution_count": 54,
   "id": "158a8a3b-0a73-4157-9025-8282527fd692",
   "metadata": {},
   "outputs": [
    {
     "name": "stdout",
     "output_type": "stream",
     "text": [
      "ChatCompletion(id='chatcmpl-1a3597cd-b073-9197-a885-b5793d0b38c7', choices=[Choice(finish_reason='stop', index=0, logprobs=None, message=ChatCompletionMessage(content='Hello! How can I assist you today?', refusal=None, role='assistant', audio=None, function_call=None, tool_calls=None))], created=1738826924, model='qwen-coder-plus', object='chat.completion', service_tier=None, system_fingerprint=None, usage=CompletionUsage(completion_tokens=9, prompt_tokens=20, total_tokens=29, completion_tokens_details=None, prompt_tokens_details=None))\n"
     ]
    }
   ],
   "source": [
    "print(data)"
   ]
  },
  {
   "cell_type": "code",
   "execution_count": 56,
   "id": "d872f47e-b768-4d3e-850f-c2034e2e2263",
   "metadata": {},
   "outputs": [
    {
     "name": "stdout",
     "output_type": "stream",
     "text": [
      "ChatCompletionMessage(content='Hello! How can I assist you today?', refusal=None, role='assistant', audio=None, function_call=None, tool_calls=None)\n"
     ]
    }
   ],
   "source": [
    "# 从返回的数据中获取生成的消息\n",
    "new_message = data.choices[0].message\n",
    "# 打印 new_message\n",
    "print(new_message)"
   ]
  },
  {
   "cell_type": "code",
   "execution_count": 57,
   "id": "ee8c6048-2fed-4a81-90cc-45f526630aad",
   "metadata": {},
   "outputs": [
    {
     "name": "stdout",
     "output_type": "stream",
     "text": [
      "[{'role': 'user', 'content': 'Hello!'}, ChatCompletionMessage(content='Hello! How can I assist you today?', refusal=None, role='assistant', audio=None, function_call=None, tool_calls=None)]\n"
     ]
    }
   ],
   "source": [
    "# 将消息追加到 messages 列表中\n",
    "messages.append(new_message)\n",
    "print(messages)"
   ]
  },
  {
   "cell_type": "code",
   "execution_count": 58,
   "id": "1f88a3a6-c6ad-47a2-a187-40f4e921b54f",
   "metadata": {},
   "outputs": [
    {
     "data": {
      "text/plain": [
       "openai.types.chat.chat_completion_message.ChatCompletionMessage"
      ]
     },
     "execution_count": 58,
     "metadata": {},
     "output_type": "execute_result"
    }
   ],
   "source": [
    "type(new_message)"
   ]
  },
  {
   "cell_type": "code",
   "execution_count": 59,
   "id": "4dc4a02b-2c19-4114-bfad-7b8364d1f8fd",
   "metadata": {},
   "outputs": [
    {
     "data": {
      "text/plain": [
       "'assistant'"
      ]
     },
     "execution_count": 59,
     "metadata": {},
     "output_type": "execute_result"
    }
   ],
   "source": [
    "new_message.role"
   ]
  },
  {
   "cell_type": "code",
   "execution_count": 60,
   "id": "843e1454-85b9-409f-8a6a-c84fadcab05a",
   "metadata": {},
   "outputs": [
    {
     "data": {
      "text/plain": [
       "'Hello! How can I assist you today?'"
      ]
     },
     "execution_count": 60,
     "metadata": {},
     "output_type": "execute_result"
    }
   ],
   "source": [
    "new_message.content"
   ]
  },
  {
   "cell_type": "code",
   "execution_count": 61,
   "id": "626586e5-55c0-4b1c-8dc4-175edab9b7c4",
   "metadata": {},
   "outputs": [
    {
     "data": {
      "text/plain": [
       "ChatCompletionMessage(content='Hello! How can I assist you today?', refusal=None, role='assistant', audio=None, function_call=None, tool_calls=None)"
      ]
     },
     "execution_count": 61,
     "metadata": {},
     "output_type": "execute_result"
    }
   ],
   "source": [
    "messages.pop()"
   ]
  },
  {
   "cell_type": "code",
   "execution_count": 62,
   "id": "bbf5b445-f0b2-422c-befd-2738982903d4",
   "metadata": {},
   "outputs": [
    {
     "name": "stdout",
     "output_type": "stream",
     "text": [
      "[{'role': 'user', 'content': 'Hello!'}]\n"
     ]
    }
   ],
   "source": [
    "print(messages)"
   ]
  },
  {
   "cell_type": "markdown",
   "id": "5a9d6f7b-09fd-4bed-bcde-2ab50d3d415c",
   "metadata": {},
   "source": [
    "#### Prompt: OpenAIObject -> Dict\n",
    "\n",
    "```\n",
    "打印 messages 列表后发现数据类型不对，messages 输出如下：\n",
    "\n",
    "print(messages)\n",
    "\n",
    "[{'role': 'user', 'content': 'Hello!'}, <OpenAIObject at 0x7f27582c13f0> JSON: {\n",
    "  \"content\": \"Hello! How can I assist you today?\",\n",
    "  \"role\": \"assistant\"\n",
    "}]\n",
    "\n",
    "将OpenAIObject 转换为一个如下数据类型格式：\n",
    "\n",
    "    {\n",
    "        \"role\": \"user\", \n",
    "        \"content\": \"Hello!\"\n",
    "    }\n",
    "```"
   ]
  },
  {
   "cell_type": "code",
   "execution_count": 63,
   "id": "8d9052f8-88ef-4b71-8fa8-42bff7304537",
   "metadata": {},
   "outputs": [
    {
     "data": {
      "text/plain": [
       "dict"
      ]
     },
     "execution_count": 63,
     "metadata": {},
     "output_type": "execute_result"
    }
   ],
   "source": [
    "new_message = data.choices[0].message\n",
    "new_message_dict = {\"role\": new_message.role, \"content\": new_message.content}\n",
    "type(new_message_dict)"
   ]
  },
  {
   "cell_type": "code",
   "execution_count": 64,
   "id": "699416f3-ee26-432a-8ad5-27b151f24846",
   "metadata": {},
   "outputs": [
    {
     "name": "stdout",
     "output_type": "stream",
     "text": [
      "{'role': 'assistant', 'content': 'Hello! How can I assist you today?'}\n"
     ]
    }
   ],
   "source": [
    "print(new_message_dict)"
   ]
  },
  {
   "cell_type": "code",
   "execution_count": 65,
   "id": "7a11a2c6-3f2b-4c35-b987-f396f839da7c",
   "metadata": {},
   "outputs": [],
   "source": [
    "# 将消息追加到 messages 列表中\n",
    "messages.append(new_message_dict)"
   ]
  },
  {
   "cell_type": "code",
   "execution_count": 66,
   "id": "532671cb-6ceb-472f-98c8-c86a38c08bc6",
   "metadata": {},
   "outputs": [
    {
     "name": "stdout",
     "output_type": "stream",
     "text": [
      "[{'role': 'user', 'content': 'Hello!'}, {'role': 'assistant', 'content': 'Hello! How can I assist you today?'}]\n"
     ]
    }
   ],
   "source": [
    "print(messages)"
   ]
  },
  {
   "cell_type": "markdown",
   "id": "f7a5d741-5b2e-4f1a-8a74-e3b559874079",
   "metadata": {},
   "source": [
    "#### 新一轮对话"
   ]
  },
  {
   "cell_type": "code",
   "execution_count": 67,
   "id": "ad2e089b-ba80-477b-92d1-c183f11082c8",
   "metadata": {},
   "outputs": [],
   "source": [
    "new_chat = {\n",
    "    \"role\": \"user\",\n",
    "    \"content\": \"1.讲一个程序员才听得懂的冷笑话；2.今天是几号？3.明天星期几？\"\n",
    "}"
   ]
  },
  {
   "cell_type": "code",
   "execution_count": 68,
   "id": "780f361d-b9e1-4343-8851-089d4c0aecde",
   "metadata": {},
   "outputs": [],
   "source": [
    "messages.append(new_chat)"
   ]
  },
  {
   "cell_type": "code",
   "execution_count": 69,
   "id": "32b195bb-52ca-4b7f-a1f6-5b183ffbd58f",
   "metadata": {},
   "outputs": [
    {
     "name": "stdout",
     "output_type": "stream",
     "text": [
      "[{'content': 'Hello!', 'role': 'user'},\n",
      " {'content': 'Hello! How can I assist you today?', 'role': 'assistant'},\n",
      " {'content': '1.讲一个程序员才听得懂的冷笑话；2.今天是几号？3.明天星期几？', 'role': 'user'}]\n"
     ]
    }
   ],
   "source": [
    "from pprint import pprint\n",
    "\n",
    "pprint(messages)"
   ]
  },
  {
   "cell_type": "code",
   "execution_count": 70,
   "id": "54b0532a-0099-40e3-8a3d-9dc72d6eccbd",
   "metadata": {},
   "outputs": [],
   "source": [
    "data = client.chat.completions.create(\n",
    "  model=\"qwen-coder-plus\",\n",
    "  messages=messages\n",
    ")"
   ]
  },
  {
   "cell_type": "code",
   "execution_count": 71,
   "id": "edad9b8d-2b46-4cd4-ba03-51c96cc4c175",
   "metadata": {},
   "outputs": [
    {
     "name": "stdout",
     "output_type": "stream",
     "text": [
      "ChatCompletionMessage(content='当然可以！\\n\\n1. **程序员冷笑话**：为什么程序员总是饿？因为他们一直在做“bug餐”（bug meal）。\\n\\n2. **今天是几号**：抱歉，我无法提供当前的具体日期，因为我的知识截止到2023年10月。你可以查看你的设备上的日期来获取最新的信息。\\n\\n3. **明天星期几**：同样地，由于我无法访问实时日期，你也可以查看你的设备来确定明天是星期几。\\n\\n希望这些信息对你有帮助！如果你有其他问题，随时告诉我。', refusal=None, role='assistant', audio=None, function_call=None, tool_calls=None)\n"
     ]
    }
   ],
   "source": [
    "new_message = data.choices[0].message\n",
    "# 打印 new_messages \n",
    "print(new_message)"
   ]
  },
  {
   "cell_type": "code",
   "execution_count": 72,
   "id": "bedc91c2-4216-4686-b66c-df012a9778c8",
   "metadata": {},
   "outputs": [
    {
     "name": "stdout",
     "output_type": "stream",
     "text": [
      "当然可以！\n",
      "\n",
      "1. **程序员冷笑话**：为什么程序员总是饿？因为他们一直在做“bug餐”（bug meal）。\n",
      "\n",
      "2. **今天是几号**：抱歉，我无法提供当前的具体日期，因为我的知识截止到2023年10月。你可以查看你的设备上的日期来获取最新的信息。\n",
      "\n",
      "3. **明天星期几**：同样地，由于我无法访问实时日期，你也可以查看你的设备来确定明天是星期几。\n",
      "\n",
      "希望这些信息对你有帮助！如果你有其他问题，随时告诉我。\n"
     ]
    }
   ],
   "source": [
    "# 打印 new_messages 内容\n",
    "print(new_message.content)"
   ]
  },
  {
   "cell_type": "markdown",
   "id": "877f2ff6-8bac-43a9-a827-e472c5698ed4",
   "metadata": {},
   "source": []
  },
  {
   "cell_type": "code",
   "execution_count": null,
   "id": "903ec93e-fba9-403e-bfe4-b749f91abb0c",
   "metadata": {},
   "outputs": [],
   "source": []
  },
  {
   "cell_type": "markdown",
   "id": "7f417580-7810-4f0e-ad5c-6d2e0f9e7f42",
   "metadata": {},
   "source": [
    "## 使用多种身份聊天对话\n",
    "\n",
    "目前`role`参数支持3类身份： `system`, `user` `assistant`:\n",
    "\n",
    "\n",
    "![](images/chat_completion_api.png)\n",
    "\n"
   ]
  },
  {
   "cell_type": "code",
   "execution_count": 73,
   "id": "0981fe4b-410d-4d70-b07c-78a88e46b7af",
   "metadata": {},
   "outputs": [],
   "source": [
    "# 构造聊天记录\n",
    "messages=[\n",
    "    {\"role\": \"system\", \"content\": \"你是一个乐于助人的体育界专家。\"},\n",
    "    {\"role\": \"user\", \"content\": \"2008年奥运会是在哪里举行的？\"},\n",
    "]"
   ]
  },
  {
   "cell_type": "code",
   "execution_count": 74,
   "id": "7d135caf-b778-4d50-b738-a429398c6eaa",
   "metadata": {},
   "outputs": [],
   "source": [
    "import openai\n",
    "\n",
    "data = client.chat.completions.create(\n",
    "  model=\"qwen-coder-plus\",\n",
    "  messages=messages\n",
    ")\n"
   ]
  },
  {
   "cell_type": "code",
   "execution_count": 75,
   "id": "e97b0145-af2f-47bb-865f-9b2a8f4e6353",
   "metadata": {},
   "outputs": [
    {
     "name": "stdout",
     "output_type": "stream",
     "text": [
      "2008年奥运会是在中国北京举行的。这是中国第一次举办夏季奥运会，也是继1992年巴塞罗那奥运会后第二次有西班牙语国家（当时中国的官方语言是普通话，但这里指主办国文化特色）参与的夏季奥运会。北京奥运会于2008年8月8日至24日举行，共吸引了来自204个国家和地区的运动员参加。\n"
     ]
    }
   ],
   "source": [
    "message = data.choices[0].message.content\n",
    "print(message)"
   ]
  },
  {
   "cell_type": "code",
   "execution_count": 76,
   "id": "fd56c185-b6e0-4ade-8236-9e2549182ab2",
   "metadata": {},
   "outputs": [],
   "source": [
    "# 添加 GPT 返回结果到聊天记录\n",
    "messages.append({\"role\": \"assistant\", \"content\": message})"
   ]
  },
  {
   "cell_type": "code",
   "execution_count": 77,
   "id": "a860210e-be0d-468e-8845-8ffceaecb034",
   "metadata": {},
   "outputs": [
    {
     "data": {
      "text/plain": [
       "[{'role': 'system', 'content': '你是一个乐于助人的体育界专家。'},\n",
       " {'role': 'user', 'content': '2008年奥运会是在哪里举行的？'},\n",
       " {'role': 'assistant',\n",
       "  'content': '2008年奥运会是在中国北京举行的。这是中国第一次举办夏季奥运会，也是继1992年巴塞罗那奥运会后第二次有西班牙语国家（当时中国的官方语言是普通话，但这里指主办国文化特色）参与的夏季奥运会。北京奥运会于2008年8月8日至24日举行，共吸引了来自204个国家和地区的运动员参加。'}]"
      ]
     },
     "execution_count": 77,
     "metadata": {},
     "output_type": "execute_result"
    }
   ],
   "source": [
    "messages"
   ]
  },
  {
   "cell_type": "code",
   "execution_count": 78,
   "id": "99bae857-2854-4090-8a4d-8e1930f70464",
   "metadata": {},
   "outputs": [],
   "source": [
    "# 第二轮对话\n",
    "messages.append({\"role\": \"user\", \"content\": \"1.金牌最多的是哪个国家？2.奖牌最多的是哪个国家？\"})"
   ]
  },
  {
   "cell_type": "code",
   "execution_count": 79,
   "id": "f07bbb71-fe19-4582-b1f3-3ee994fcec0b",
   "metadata": {},
   "outputs": [
    {
     "data": {
      "text/plain": [
       "[{'role': 'system', 'content': '你是一个乐于助人的体育界专家。'},\n",
       " {'role': 'user', 'content': '2008年奥运会是在哪里举行的？'},\n",
       " {'role': 'assistant',\n",
       "  'content': '2008年奥运会是在中国北京举行的。这是中国第一次举办夏季奥运会，也是继1992年巴塞罗那奥运会后第二次有西班牙语国家（当时中国的官方语言是普通话，但这里指主办国文化特色）参与的夏季奥运会。北京奥运会于2008年8月8日至24日举行，共吸引了来自204个国家和地区的运动员参加。'},\n",
       " {'role': 'user', 'content': '1.金牌最多的是哪个国家？2.奖牌最多的是哪个国家？'}]"
      ]
     },
     "execution_count": 79,
     "metadata": {},
     "output_type": "execute_result"
    }
   ],
   "source": [
    "messages"
   ]
  },
  {
   "cell_type": "code",
   "execution_count": 80,
   "id": "a138da7f-b5b3-40a1-b30b-4e6b0c8e249f",
   "metadata": {},
   "outputs": [],
   "source": [
    "data = client.chat.completions.create(\n",
    "  model=\"qwen-coder-plus\",\n",
    "  messages=messages\n",
    ")"
   ]
  },
  {
   "cell_type": "code",
   "execution_count": 89,
   "id": "f531bc4d-3eeb-49f7-b717-0986f2b4af2c",
   "metadata": {},
   "outputs": [
    {
     "name": "stdout",
     "output_type": "stream",
     "text": [
      "要回答这两个问题，我们需要具体的奖牌数据。由于您没有提供具体的数据，我将假设一个通用的奥运会奖牌榜来说明如何解答这类问题。\n",
      "\n",
      "假设我们有以下奥运会奖牌榜数据（金牌、银牌、铜牌）：\n",
      "\n",
      "| 国家   | 金牌 | 银牌 | 铜牌 |\n",
      "|--------|------|------|------|\n",
      "| 美国   | 46   | 37   | 38   |\n",
      "| 中国   | 39   | 28   | 22   |\n",
      "| 英国   | 27   | 23   | 17   |\n",
      "| 德国   | 16   | 10   | 15   |\n",
      "| 日本   | 12   | 5    | 7    |\n",
      "\n",
      "根据这个表格我们可以进行如下分析：\n",
      "\n",
      "1. **金牌最多的是哪个国家？**\n",
      "   - 美国：46枚金牌\n",
      "   - 中国：39枚金牌\n",
      "   - 其他国家的金牌数量少于中国\n",
      "   - 因此，金牌最多的是美国。\n",
      "\n",
      "2. **奖牌最多的是哪个国家？**\n",
      "   - 美国：46+37+38=121枚奖牌\n",
      "   - 中国：39+28+22=89枚奖牌\n",
      "   - 英国：27+23+17=67枚奖牌\n",
      "   - 其他国家的奖牌总数少于英国\n",
      "   - 因此，奖牌最多的是美国。\n",
      "\n",
      "请根据实际提供的数据替换上述假设数据以获得准确的答案。\n"
     ]
    }
   ],
   "source": [
    "message = data.choices[0].message.content\n",
    "print(message)"
   ]
  },
  {
   "cell_type": "code",
   "execution_count": 90,
   "id": "3500811e-3a80-4ed0-9770-a1f761dfab6b",
   "metadata": {},
   "outputs": [],
   "source": [
    "data = client.chat.completions.create(\n",
    "  model=\"qwen-coder-plus\",\n",
    "  messages=[{'role': 'user', 'content': '1.金牌最多的是哪个国家？2.奖牌最多的是哪个国家？'}]\n",
    ")"
   ]
  },
  {
   "cell_type": "code",
   "execution_count": 91,
   "id": "cd59b92d-8362-4215-8865-82fe5cafce56",
   "metadata": {},
   "outputs": [
    {
     "data": {
      "text/plain": [
       "'要准确回答这两个问题，我们需要具体的奖牌数据。这些数据通常会在奥运会、世界锦标赛等大型体育赛事结束后由官方发布。如果你能提供具体的奖牌数据或者指定某个赛事，我可以帮助你分析和找出答案。\\n\\n假设我们有一个虚构的奖牌榜来说明如何分析：\\n\\n| 国家   | 金牌数 | 银牌数 | 铜牌数 |\\n|--------|--------|--------|--------|\\n| 美国   | 30     | 20     | 25     |\\n| 中国   | 25     | 26     | 18     |\\n| 英国   | 15     | 17     | 22     |\\n| 德国   | 10     | 20     | 25     |\\n\\n根据这个虚构的数据：\\n\\n1. 金牌最多的是美国，有30枚金牌。\\n2. 奖牌总数最多的是美国，总共75枚（30金+20银+25铜）。\\n\\n请提供具体的数据以便我能给出更准确的答案。'"
      ]
     },
     "execution_count": 91,
     "metadata": {},
     "output_type": "execute_result"
    }
   ],
   "source": [
    "data.choices[0].message.content"
   ]
  },
  {
   "cell_type": "code",
   "execution_count": null,
   "id": "25220ddb-b894-41b0-a36f-aadfc18d1b23",
   "metadata": {},
   "outputs": [],
   "source": []
  }
 ],
 "metadata": {
  "kernelspec": {
   "display_name": "langchain",
   "language": "python",
   "name": "python3"
  },
  "language_info": {
   "codemirror_mode": {
    "name": "ipython",
    "version": 3
   },
   "file_extension": ".py",
   "mimetype": "text/x-python",
   "name": "python",
   "nbconvert_exporter": "python",
   "pygments_lexer": "ipython3",
   "version": "3.10.16"
  }
 },
 "nbformat": 4,
 "nbformat_minor": 5
}
